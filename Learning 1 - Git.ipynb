{
 "cells": [
  {
   "cell_type": "code",
   "execution_count": 1,
   "id": "9863df3d-4189-48fe-a4fe-62ca20e0e11a",
   "metadata": {
    "collapsed": true,
    "jupyter": {
     "outputs_hidden": true
    },
    "tags": []
   },
   "outputs": [],
   "source": [
    "'''\n",
    "    ! = used to skip python.\n",
    "'''"
   ]
  },
  {
   "cell_type": "code",
   "execution_count": 5,
   "id": "eaea2f52-78ec-46b0-9dc6-454c58d3535b",
   "metadata": {
    "tags": []
   },
   "outputs": [
    {
     "name": "stdout",
     "output_type": "stream",
     "text": [
      "usage: git [--version] [--help] [-C <path>] [-c <name>=<value>]\n",
      "           [--exec-path[=<path>]] [--html-path] [--man-path] [--info-path]\n",
      "           [-p | --paginate | -P | --no-pager] [--no-replace-objects] [--bare]\n",
      "           [--git-dir=<path>] [--work-tree=<path>] [--namespace=<name>]\n",
      "           [--super-prefix=<path>] [--config-env=<name>=<envvar>]\n",
      "           <command> [<args>]\n",
      "\n",
      "These are common Git commands used in various situations:\n",
      "\n",
      "start a working area (see also: git help tutorial)\n",
      "   clone     Clone a repository into a new directory\n",
      "   init      Create an empty Git repository or reinitialize an existing one\n",
      "\n",
      "work on the current change (see also: git help everyday)\n",
      "   add       Add file contents to the index\n",
      "   mv        Move or rename a file, a directory, or a symlink\n",
      "   restore   Restore working tree files\n",
      "   rm        Remove files from the working tree and from the index\n",
      "\n",
      "examine the history and state (see also: git help revisions)\n",
      "   bisect    Use binary search to find the commit that introduced a bug\n",
      "   diff      Show changes between commits, commit and working tree, etc\n",
      "   grep      Print lines matching a pattern\n",
      "   log       Show commit logs\n",
      "   show      Show various types of objects\n",
      "   status    Show the working tree status\n",
      "\n",
      "grow, mark and tweak your common history\n",
      "   branch    List, create, or delete branches\n",
      "   commit    Record changes to the repository\n",
      "   merge     Join two or more development histories together\n",
      "   rebase    Reapply commits on top of another base tip\n",
      "   reset     Reset current HEAD to the specified state\n",
      "   switch    Switch branches\n",
      "   tag       Create, list, delete or verify a tag object signed with GPG\n",
      "\n",
      "collaborate (see also: git help workflows)\n",
      "   fetch     Download objects and refs from another repository\n",
      "   pull      Fetch from and integrate with another repository or a local branch\n",
      "   push      Update remote refs along with associated objects\n",
      "\n",
      "'git help -a' and 'git help -g' list available subcommands and some\n",
      "concept guides. See 'git help <command>' or 'git help <concept>'\n",
      "to read about a specific subcommand or concept.\n",
      "See 'git help git' for an overview of the system.\n"
     ]
    }
   ],
   "source": [
    "! git"
   ]
  },
  {
   "cell_type": "code",
   "execution_count": 7,
   "id": "45da69ee-1bba-40bc-b47e-bc7929434359",
   "metadata": {
    "tags": []
   },
   "outputs": [],
   "source": [
    "# identifier to who mad what changes.\n",
    "! git config --global user.name  \"Dean Rickles\"\n",
    "! git config --global user.email \"dean@rickles.co.uk\""
   ]
  },
  {
   "cell_type": "code",
   "execution_count": 8,
   "id": "ab583741-5c57-47ff-9f18-5a869ab53ebe",
   "metadata": {},
   "outputs": [
    {
     "data": {
      "text/plain": [
       "'\\n    Git and github are seperate tools.\\n'"
      ]
     },
     "execution_count": 8,
     "metadata": {},
     "output_type": "execute_result"
    }
   ],
   "source": [
    "'''\n",
    "    Git and github are seperate tools.\n",
    "    \n",
    "    \n",
    "    Git\n",
    "'''"
   ]
  },
  {
   "cell_type": "code",
   "execution_count": 10,
   "id": "32051440-1915-40d5-9389-285fb60c1c61",
   "metadata": {},
   "outputs": [
    {
     "name": "stdout",
     "output_type": "stream",
     "text": [
      "\u001b[33mhint: Using 'master' as the name for the initial branch. This default branch name\u001b[m\n",
      "\u001b[33mhint: is subject to change. To configure the initial branch name to use in all\u001b[m\n",
      "\u001b[33mhint: of your new repositories, which will suppress this warning, call:\u001b[m\n",
      "\u001b[33mhint: \u001b[m\n",
      "\u001b[33mhint: \tgit config --global init.defaultBranch <name>\u001b[m\n",
      "\u001b[33mhint: \u001b[m\n",
      "\u001b[33mhint: Names commonly chosen instead of 'master' are 'main', 'trunk' and\u001b[m\n",
      "\u001b[33mhint: 'development'. The just-created branch can be renamed via this command:\u001b[m\n",
      "\u001b[33mhint: \u001b[m\n",
      "\u001b[33mhint: \tgit branch -m <name>\u001b[m\n",
      "Initialized empty Git repository in /opt/app/data/gitHub/.git/\n"
     ]
    }
   ],
   "source": [
    "# creating a empty dit repository.\n",
    "! git init"
   ]
  },
  {
   "cell_type": "code",
   "execution_count": 12,
   "id": "833ee422-c852-420d-8550-89b415d34e96",
   "metadata": {},
   "outputs": [
    {
     "name": "stdout",
     "output_type": "stream",
     "text": [
      " \u001b[0m\u001b[01;34m.\u001b[0m/   \u001b[01;34m..\u001b[0m/   \u001b[01;34m.git\u001b[0m/   \u001b[01;34m.ipynb_checkpoints\u001b[0m/  'Learning 1.ipynb'\n"
     ]
    }
   ],
   "source": [
    "# .git/  created used by git to store information\n",
    "ls -a"
   ]
  },
  {
   "cell_type": "code",
   "execution_count": 24,
   "id": "3106ff7c-274c-4541-9be9-cd49658584df",
   "metadata": {},
   "outputs": [
    {
     "name": "stdout",
     "output_type": "stream",
     "text": [
      "On branch master\n",
      "\n",
      "No commits yet\n",
      "\n",
      "Untracked files:\n",
      "  (use \"git add <file>...\" to include in what will be committed)\n",
      "\t\u001b[31m.ipynb_checkpoints/\u001b[m\n",
      "\t\u001b[31mLearning 1.ipynb\u001b[m\n",
      "\t\u001b[31mindex.html\u001b[m\n",
      "\n",
      "nothing added to commit but untracked files present (use \"git add\" to track)\n"
     ]
    }
   ],
   "source": [
    "# get status on repository\n",
    "! git status"
   ]
  },
  {
   "cell_type": "code",
   "execution_count": 22,
   "id": "c7a9f6ec-84d2-4748-99ef-b93a3e597d6b",
   "metadata": {},
   "outputs": [],
   "source": [
    "# creating a file.\n",
    "! touch index.html"
   ]
  },
  {
   "cell_type": "code",
   "execution_count": 23,
   "id": "f0ca678d-17c9-4731-86d2-a84cf97e7c08",
   "metadata": {},
   "outputs": [
    {
     "name": "stdout",
     "output_type": "stream",
     "text": [
      " index.html  'Learning 1.ipynb'\n"
     ]
    }
   ],
   "source": []
  },
  {
   "cell_type": "code",
   "execution_count": 25,
   "id": "47acfd7d-a01a-4d91-a575-7faf5b0bbfa8",
   "metadata": {},
   "outputs": [
    {
     "name": "stdout",
     "output_type": "stream",
     "text": [
      "On branch master\n",
      "\n",
      "No commits yet\n",
      "\n",
      "Untracked files:\n",
      "  (use \"git add <file>...\" to include in what will be committed)\n",
      "\t\u001b[31m.ipynb_checkpoints/\u001b[m\n",
      "\t\u001b[31mLearning 1.ipynb\u001b[m\n",
      "\t\u001b[31mindex.html\u001b[m\n",
      "\n",
      "nothing added to commit but untracked files present (use \"git add\" to track)\n"
     ]
    }
   ],
   "source": [
    "! git status"
   ]
  },
  {
   "cell_type": "code",
   "execution_count": 26,
   "id": "7a7e171a-63a9-478a-83d9-e34627f85fcc",
   "metadata": {},
   "outputs": [],
   "source": [
    "# Staging area\n",
    "! git add index.html"
   ]
  },
  {
   "cell_type": "code",
   "execution_count": 27,
   "id": "8ae8663e-fe13-4ecb-9c98-9b773bfc413c",
   "metadata": {},
   "outputs": [
    {
     "name": "stdout",
     "output_type": "stream",
     "text": [
      "On branch master\n",
      "\n",
      "No commits yet\n",
      "\n",
      "Changes to be committed:\n",
      "  (use \"git rm --cached <file>...\" to unstage)\n",
      "\t\u001b[32mnew file:   index.html\u001b[m\n",
      "\n",
      "Untracked files:\n",
      "  (use \"git add <file>...\" to include in what will be committed)\n",
      "\t\u001b[31m.ipynb_checkpoints/\u001b[m\n",
      "\t\u001b[31mLearning 1.ipynb\u001b[m\n",
      "\n"
     ]
    }
   ],
   "source": [
    "! git status"
   ]
  },
  {
   "cell_type": "code",
   "execution_count": 28,
   "id": "5873e2a5-fb01-4f10-b6cc-d4c740070be3",
   "metadata": {},
   "outputs": [
    {
     "name": "stdout",
     "output_type": "stream",
     "text": [
      "[master (root-commit) c48d2f4] Commiting an empty file for testing.\n",
      " 1 file changed, 0 insertions(+), 0 deletions(-)\n",
      " create mode 100644 index.html\n"
     ]
    }
   ],
   "source": [
    "! git commit -m \"Commiting an empty file for testing.\""
   ]
  },
  {
   "cell_type": "code",
   "execution_count": null,
   "id": "9e554cb0-a0fa-418a-9abc-04ba73c6bd19",
   "metadata": {},
   "outputs": [
    {
     "name": "stdout",
     "output_type": "stream",
     "text": [
      "On branch master\n",
      "Untracked files:\n",
      "  (use \"git add <file>...\" to include in what will be committed)\n",
      "\t\u001b[31m.ipynb_checkpoints/\u001b[m\n",
      "\t\u001b[31mLearning 1.ipynb\u001b[m\n",
      "\n",
      "nothing added to commit but untracked files present (use \"git add\" to track)\n"
     ]
    }
   ],
   "source": [
    "! git status"
   ]
  },
  {
   "cell_type": "code",
   "execution_count": 31,
   "id": "5dfdb915-d873-4d2b-b58e-09c585ce52c2",
   "metadata": {},
   "outputs": [
    {
     "name": "stdout",
     "output_type": "stream",
     "text": [
      "\u001b[33mcommit c48d2f4cfbeab31b8c07ca29a4372cd7cdab0845\u001b[m\u001b[33m (\u001b[m\u001b[1;36mHEAD -> \u001b[m\u001b[1;32mmaster\u001b[m\u001b[33m)\u001b[m\n",
      "Author: Dean Rickles <dean@rickles.co.uk>\n",
      "Date:   Tue Apr 19 12:54:39 2022 +0100\n",
      "\n",
      "    Commiting an empty file for testing.\n"
     ]
    }
   ],
   "source": [
    "# shows the log of status changes.\n",
    "! git log"
   ]
  },
  {
   "cell_type": "code",
   "execution_count": 32,
   "id": "8c71cd7d-4474-42f3-87e6-9f1c4971294f",
   "metadata": {},
   "outputs": [],
   "source": [
    "! git add Learning\\ 1.ipynb"
   ]
  },
  {
   "cell_type": "code",
   "execution_count": 33,
   "id": "47ed9bf9-ebde-4f2f-9f7f-39ce124202ef",
   "metadata": {},
   "outputs": [],
   "source": [
    "! git status"
   ]
  },
  {
   "cell_type": "code",
   "execution_count": 33,
   "id": "e366f3a5-b156-4805-b4eb-71c6a14bb0fa",
   "metadata": {
    "jupyter": {
     "source_hidden": true
    },
    "tags": []
   },
   "outputs": [
    {
     "name": "stdout",
     "output_type": "stream",
     "text": [
      "On branch master\n",
      "Changes to be committed:\n",
      "  (use \"git restore --staged <file>...\" to unstage)\n",
      "\t\u001b[32mnew file:   Learning 1.ipynb\u001b[m\n",
      "\n",
      "Untracked files:\n",
      "  (use \"git add <file>...\" to include in what will be committed)\n",
      "\t\u001b[31m.ipynb_checkpoints/\u001b[m\n",
      "\n"
     ]
    }
   ],
   "source": [
    "'''\n",
    "On branch master\n",
    "Changes to be committed:\n",
    "  (use \"git restore --staged <file>...\" to unstage)\n",
    "\tnew file:   Learning 1.ipynb\n",
    "\n",
    "Untracked files:\n",
    "  (use \"git add <file>...\" to include in what will be committed)\n",
    "\t.ipynb_checkpoints/\n",
    "'''"
   ]
  },
  {
   "cell_type": "code",
   "execution_count": 34,
   "id": "03b036d0-5707-442e-8c13-0683c95e75cd",
   "metadata": {},
   "outputs": [],
   "source": [
    "! git commit -m \"Commiting this learning file.\""
   ]
  },
  {
   "cell_type": "code",
   "execution_count": 34,
   "id": "57d48c27-afc8-4ee5-808e-4ef52d01aaa6",
   "metadata": {
    "jupyter": {
     "source_hidden": true
    },
    "tags": []
   },
   "outputs": [
    {
     "name": "stdout",
     "output_type": "stream",
     "text": [
      "[master e1fa1d6] Commiting this learning file.\n",
      " 1 file changed, 372 insertions(+)\n",
      " create mode 100644 Learning 1.ipynb\n"
     ]
    }
   ],
   "source": [
    "'''\n",
    "[master e1fa1d6] Commiting this learning file.\n",
    " 1 file changed, 372 insertions(+)\n",
    " create mode 100644 Learning 1.ipynb\n",
    "'''"
   ]
  },
  {
   "cell_type": "code",
   "execution_count": 35,
   "id": "a4a368cf-a048-4b1f-b34f-09571ef46e48",
   "metadata": {},
   "outputs": [],
   "source": [
    "! git status"
   ]
  },
  {
   "cell_type": "code",
   "execution_count": 35,
   "id": "fc86a7ef-8a92-445b-818b-9fc2ef86e158",
   "metadata": {
    "jupyter": {
     "source_hidden": true
    },
    "tags": []
   },
   "outputs": [
    {
     "name": "stdout",
     "output_type": "stream",
     "text": [
      "On branch master\n",
      "Untracked files:\n",
      "  (use \"git add <file>...\" to include in what will be committed)\n",
      "\t\u001b[31m.ipynb_checkpoints/\u001b[m\n",
      "\n",
      "nothing added to commit but untracked files present (use \"git add\" to track)\n"
     ]
    }
   ],
   "source": [
    "'''\n",
    "On branch master\n",
    "Untracked files:\n",
    "  (use \"git add <file>...\" to include in what will be committed)\n",
    "\t.ipynb_checkpoints/\n",
    "\n",
    "nothing added to commit but untracked files present (use \"git add\" to track)\n",
    "'''"
   ]
  },
  {
   "cell_type": "code",
   "execution_count": 36,
   "id": "7b2daa85-0373-4c4d-ae08-16ac8fb10e96",
   "metadata": {},
   "outputs": [],
   "source": [
    "! git log"
   ]
  },
  {
   "cell_type": "code",
   "execution_count": 36,
   "id": "cb0f1393-2a6a-4b16-9c67-021f9b2d5508",
   "metadata": {
    "jupyter": {
     "source_hidden": true
    },
    "tags": []
   },
   "outputs": [
    {
     "name": "stdout",
     "output_type": "stream",
     "text": [
      "\u001b[33mcommit e1fa1d688144d9a1de757772ddd4818561b8075c\u001b[m\u001b[33m (\u001b[m\u001b[1;36mHEAD -> \u001b[m\u001b[1;32mmaster\u001b[m\u001b[33m)\u001b[m\n",
      "Author: Dean Rickles <dean@rickles.co.uk>\n",
      "Date:   Tue Apr 19 12:56:20 2022 +0100\n",
      "\n",
      "    Commiting this learning file.\n",
      "\n",
      "\u001b[33mcommit c48d2f4cfbeab31b8c07ca29a4372cd7cdab0845\u001b[m\n",
      "Author: Dean Rickles <dean@rickles.co.uk>\n",
      "Date:   Tue Apr 19 12:54:39 2022 +0100\n",
      "\n",
      "    Commiting an empty file for testing.\n"
     ]
    }
   ],
   "source": [
    "'''\n",
    "commit e1fa1d688144d9a1de757772ddd4818561b8075c (HEAD -> master)\n",
    "Author: Dean Rickles <dean@rickles.co.uk>\n",
    "Date:   Tue Apr 19 12:56:20 2022 +0100\n",
    "\n",
    "    Commiting this learning file.\n",
    "\n",
    "commit c48d2f4cfbeab31b8c07ca29a4372cd7cdab0845\n",
    "Author: Dean Rickles <dean@rickles.co.uk>\n",
    "Date:   Tue Apr 19 12:54:39 2022 +0100\n",
    "\n",
    "    Commiting an empty file for testing.\n",
    "'''"
   ]
  },
  {
   "cell_type": "code",
   "execution_count": 37,
   "id": "2d6a50b0-0914-4f45-ba44-962919b17b28",
   "metadata": {},
   "outputs": [],
   "source": [
    "# when commiting data you can see modified data\n",
    "! git status"
   ]
  },
  {
   "cell_type": "code",
   "execution_count": 37,
   "id": "05ed3b54-559a-4542-bfe3-283c4e11810c",
   "metadata": {
    "jupyter": {
     "source_hidden": true
    },
    "tags": []
   },
   "outputs": [
    {
     "name": "stdout",
     "output_type": "stream",
     "text": [
      "On branch master\n",
      "Changes not staged for commit:\n",
      "  (use \"git add <file>...\" to update what will be committed)\n",
      "  (use \"git restore <file>...\" to discard changes in working directory)\n",
      "\t\u001b[31mmodified:   Learning 1.ipynb\u001b[m\n",
      "\n",
      "Untracked files:\n",
      "  (use \"git add <file>...\" to include in what will be committed)\n",
      "\t\u001b[31m.ipynb_checkpoints/\u001b[m\n",
      "\n",
      "no changes added to commit (use \"git add\" and/or \"git commit -a\")\n"
     ]
    }
   ],
   "source": [
    "'''\n",
    "On branch master\n",
    "Changes not staged for commit:\n",
    "  (use \"git add <file>...\" to update what will be committed)\n",
    "  (use \"git restore <file>...\" to discard changes in working directory)\n",
    "\tmodified:   Learning 1.ipynb\n",
    "\n",
    "Untracked files:\n",
    "  (use \"git add <file>...\" to include in what will be committed)\n",
    "\t.ipynb_checkpoints/\n",
    "\n",
    "no changes added to commit (use \"git add\" and/or \"git commit -a\")\n",
    "'''"
   ]
  },
  {
   "cell_type": "code",
   "execution_count": 38,
   "id": "e1910eaa-30ef-4f0e-8e87-0cd9d45fc694",
   "metadata": {},
   "outputs": [
    {
     "name": "stdout",
     "output_type": "stream",
     "text": [
      "On branch master\n",
      "Changes not staged for commit:\n",
      "  (use \"git add <file>...\" to update what will be committed)\n",
      "  (use \"git restore <file>...\" to discard changes in working directory)\n",
      "\t\u001b[31mmodified:   Learning 1.ipynb\u001b[m\n",
      "\t\u001b[31mmodified:   index.html\u001b[m\n",
      "\n",
      "Untracked files:\n",
      "  (use \"git add <file>...\" to include in what will be committed)\n",
      "\t\u001b[31m.ipynb_checkpoints/\u001b[m\n",
      "\n",
      "no changes added to commit (use \"git add\" and/or \"git commit -a\")\n"
     ]
    }
   ],
   "source": [
    "! git status"
   ]
  },
  {
   "cell_type": "code",
   "execution_count": 39,
   "id": "ff965d5a-3e99-48e9-8e4b-260ea27b9dab",
   "metadata": {},
   "outputs": [],
   "source": [
    "! git add index.html"
   ]
  },
  {
   "cell_type": "code",
   "execution_count": 40,
   "id": "e9a1d3af-1334-49fb-9fe8-98bd46585695",
   "metadata": {},
   "outputs": [
    {
     "name": "stdout",
     "output_type": "stream",
     "text": [
      "[master 8b46d55] Added data to the index.\n",
      " 1 file changed, 1 insertion(+)\n"
     ]
    }
   ],
   "source": [
    "! git commit -m \"Added data to the index.\""
   ]
  },
  {
   "cell_type": "code",
   "execution_count": 41,
   "id": "220b8ed5-0ca9-4c4a-91d3-7215e6c91bc5",
   "metadata": {},
   "outputs": [
    {
     "name": "stdout",
     "output_type": "stream",
     "text": [
      "\u001b[33mcommit 8b46d5545b24ae0f274668424d90bc209fcba31b\u001b[m\u001b[33m (\u001b[m\u001b[1;36mHEAD -> \u001b[m\u001b[1;32mmaster\u001b[m\u001b[33m)\u001b[m\n",
      "Author: Dean Rickles <dean@rickles.co.uk>\n",
      "Date:   Tue Apr 19 13:01:24 2022 +0100\n",
      "\n",
      "    Added data to the index.\n",
      "\n",
      "\u001b[33mcommit e1fa1d688144d9a1de757772ddd4818561b8075c\u001b[m\n",
      "Author: Dean Rickles <dean@rickles.co.uk>\n",
      "Date:   Tue Apr 19 12:56:20 2022 +0100\n",
      "\n",
      "    Commiting this learning file.\n",
      "\n",
      "\u001b[33mcommit c48d2f4cfbeab31b8c07ca29a4372cd7cdab0845\u001b[m\n",
      "Author: Dean Rickles <dean@rickles.co.uk>\n",
      "Date:   Tue Apr 19 12:54:39 2022 +0100\n",
      "\n",
      "    Commiting an empty file for testing.\n"
     ]
    }
   ],
   "source": [
    "! git log"
   ]
  },
  {
   "cell_type": "code",
   "execution_count": 44,
   "id": "54124d4a-f683-49da-9d04-987f405f3e38",
   "metadata": {},
   "outputs": [
    {
     "name": "stdout",
     "output_type": "stream",
     "text": [
      "M\tLearning 1.ipynb\n",
      "Note: switching to '8b46d5545b24ae0f274668424d90bc209fcba31b'.\n",
      "\n",
      "You are in 'detached HEAD' state. You can look around, make experimental\n",
      "changes and commit them, and you can discard any commits you make in this\n",
      "state without impacting any branches by switching back to a branch.\n",
      "\n",
      "If you want to create a new branch to retain commits you create, you may\n",
      "do so (now or later) by using -c with the switch command. Example:\n",
      "\n",
      "  git switch -c <new-branch-name>\n",
      "\n",
      "Or undo this operation with:\n",
      "\n",
      "  git switch -\n",
      "\n",
      "Turn off this advice by setting config variable advice.detachedHead to false\n",
      "\n",
      "HEAD is now at 8b46d55 Added data to the index.\n"
     ]
    }
   ],
   "source": [
    "# checkout a version of the branch.\n",
    "! git checkout 8b46d5545b24ae0f274668424d90bc209fcba31b"
   ]
  },
  {
   "cell_type": "code",
   "execution_count": 47,
   "id": "845b73b8-9b55-404b-9ff8-5bb44c4eea13",
   "metadata": {
    "tags": []
   },
   "outputs": [
    {
     "name": "stdout",
     "output_type": "stream",
     "text": [
      "* \u001b[32m(HEAD detached at 8b46d55)\u001b[m\n",
      "  master\u001b[m\n"
     ]
    }
   ],
   "source": [
    "! git branch"
   ]
  },
  {
   "cell_type": "code",
   "execution_count": 49,
   "id": "a241b04c-9775-475c-839f-e6f9d5e71aa4",
   "metadata": {
    "collapsed": true,
    "jupyter": {
     "outputs_hidden": true
    },
    "tags": []
   },
   "outputs": [
    {
     "data": {
      "text/plain": [
       "'\\n* (HEAD detached at 8b46d55)\\n  master\\n'"
      ]
     },
     "execution_count": 49,
     "metadata": {},
     "output_type": "execute_result"
    }
   ],
   "source": [
    "'''\n",
    "* (HEAD detached at 8b46d55)\n",
    "  master\n",
    "'''"
   ]
  },
  {
   "cell_type": "code",
   "execution_count": 54,
   "id": "cb32bc7a-5fbf-4db3-9b63-cba40e072941",
   "metadata": {},
   "outputs": [
    {
     "name": "stdout",
     "output_type": "stream",
     "text": [
      "M\tLearning 1.ipynb\n",
      "Already on 'master'\n"
     ]
    }
   ],
   "source": [
    "# takes back to the master branch\n",
    "! git checkout master"
   ]
  },
  {
   "cell_type": "code",
   "execution_count": 52,
   "id": "be5dddad-f44f-4fb8-921d-9a37fbb64e10",
   "metadata": {},
   "outputs": [],
   "source": [
    "! git branch NewBranchExample"
   ]
  },
  {
   "cell_type": "code",
   "execution_count": 55,
   "id": "f2884d7c-78a5-496c-8c72-80c468d321d5",
   "metadata": {},
   "outputs": [
    {
     "name": "stdout",
     "output_type": "stream",
     "text": [
      "  NewBranchExample\u001b[m\n",
      "* \u001b[32mmaster\u001b[m\n"
     ]
    }
   ],
   "source": [
    "! git branch"
   ]
  },
  {
   "cell_type": "code",
   "execution_count": 56,
   "id": "1b2233d8-fddb-4fe6-b420-a947117c4eb1",
   "metadata": {},
   "outputs": [
    {
     "name": "stdout",
     "output_type": "stream",
     "text": [
      "Already up to date.\n"
     ]
    }
   ],
   "source": [
    "# how to merge branches\n",
    "! git merge NewBranchExample"
   ]
  },
  {
   "cell_type": "code",
   "execution_count": 59,
   "id": "268154ba-07ff-4149-abba-500962cbb746",
   "metadata": {
    "collapsed": true,
    "jupyter": {
     "outputs_hidden": true
    },
    "tags": []
   },
   "outputs": [
    {
     "name": "stdout",
     "output_type": "stream",
     "text": [
      "On branch master\n",
      "Changes not staged for commit:\n",
      "  (use \"git add/rm <file>...\" to update what will be committed)\n",
      "  (use \"git restore <file>...\" to discard changes in working directory)\n",
      "\t\u001b[31mdeleted:    Learning 1.ipynb\u001b[m\n",
      "\n",
      "Untracked files:\n",
      "  (use \"git add <file>...\" to include in what will be committed)\n",
      "\t\u001b[31m.ipynb_checkpoints/\u001b[m\n",
      "\t\u001b[31mLearning 1 - Git.ipynb\u001b[m\n",
      "\t\u001b[31mLearning 2 - Github.ipynb\u001b[m\n",
      "\n",
      "no changes added to commit (use \"git add\" and/or \"git commit -a\")\n"
     ]
    }
   ],
   "source": [
    "! git status"
   ]
  },
  {
   "cell_type": "code",
   "execution_count": 58,
   "id": "fa722120-c6a7-4045-b683-77647fd16b06",
   "metadata": {},
   "outputs": [
    {
     "data": {
      "text/plain": [
       "'\\nOn branch master\\nChanges not staged for commit:\\n  (use \"git add/rm <file>...\" to update what will be committed)\\n  (use \"git restore <file>...\" to discard changes in working directory)\\n\\tdeleted:    Learning 1.ipynb\\n\\nUntracked files:\\n  (use \"git add <file>...\" to include in what will be committed)\\n\\t.ipynb_checkpoints/\\n\\tLearning 1 - Git.ipynb\\n\\tLearning 2 - Github.ipynb\\n\\nno changes added to commit (use \"git add\" and/or \"git commit -a\")\\n'"
      ]
     },
     "execution_count": 58,
     "metadata": {},
     "output_type": "execute_result"
    }
   ],
   "source": [
    "'''\n",
    "On branch master\n",
    "Changes not staged for commit:\n",
    "  (use \"git add/rm <file>...\" to update what will be committed)\n",
    "  (use \"git restore <file>...\" to discard changes in working directory)\n",
    "\tdeleted:    Learning 1.ipynb\n",
    "\n",
    "Untracked files:\n",
    "  (use \"git add <file>...\" to include in what will be committed)\n",
    "\t.ipynb_checkpoints/\n",
    "\tLearning 1 - Git.ipynb\n",
    "\tLearning 2 - Github.ipynb\n",
    "\n",
    "no changes added to commit (use \"git add\" and/or \"git commit -a\")\n",
    "'''"
   ]
  },
  {
   "cell_type": "code",
   "execution_count": 60,
   "id": "699b8f69-22d1-47af-bdbe-27ef79f0b0d3",
   "metadata": {},
   "outputs": [
    {
     "name": "stdout",
     "output_type": "stream",
     "text": [
      "[master 720224d] New learning file. Github.\n",
      " 1 file changed, 372 deletions(-)\n",
      " delete mode 100644 Learning 1.ipynb\n"
     ]
    }
   ],
   "source": [
    "! git commit -a -m \"New learning file. Github.\""
   ]
  },
  {
   "cell_type": "code",
   "execution_count": 61,
   "id": "5552f78e-8d8a-445e-a709-e62fb5217c7a",
   "metadata": {},
   "outputs": [
    {
     "name": "stdout",
     "output_type": "stream",
     "text": [
      "On branch master\n",
      "Untracked files:\n",
      "  (use \"git add <file>...\" to include in what will be committed)\n",
      "\t\u001b[31m.ipynb_checkpoints/\u001b[m\n",
      "\t\u001b[31mLearning 1 - Git.ipynb\u001b[m\n",
      "\t\u001b[31mLearning 2 - Github.ipynb\u001b[m\n",
      "\n",
      "nothing added to commit but untracked files present (use \"git add\" to track)\n"
     ]
    }
   ],
   "source": [
    "! git status"
   ]
  },
  {
   "cell_type": "code",
   "execution_count": null,
   "id": "9814890d-c637-438d-8477-36ed17329e2c",
   "metadata": {},
   "outputs": [],
   "source": []
  }
 ],
 "metadata": {
  "kernelspec": {
   "display_name": "Python 3 (ipykernel)",
   "language": "python",
   "name": "python3"
  },
  "language_info": {
   "codemirror_mode": {
    "name": "ipython",
    "version": 3
   },
   "file_extension": ".py",
   "mimetype": "text/x-python",
   "name": "python",
   "nbconvert_exporter": "python",
   "pygments_lexer": "ipython3",
   "version": "3.10.2"
  }
 },
 "nbformat": 4,
 "nbformat_minor": 5
}
