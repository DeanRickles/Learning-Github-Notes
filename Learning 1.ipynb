{
 "cells": [
  {
   "cell_type": "code",
   "execution_count": 1,
   "id": "9863df3d-4189-48fe-a4fe-62ca20e0e11a",
   "metadata": {
    "collapsed": true,
    "jupyter": {
     "outputs_hidden": true
    },
    "tags": []
   },
   "outputs": [],
   "source": [
    "'''\n",
    "    ! = used to skip python.\n",
    "'''"
   ]
  },
  {
   "cell_type": "code",
   "execution_count": 5,
   "id": "eaea2f52-78ec-46b0-9dc6-454c58d3535b",
   "metadata": {
    "tags": []
   },
   "outputs": [
    {
     "name": "stdout",
     "output_type": "stream",
     "text": [
      "usage: git [--version] [--help] [-C <path>] [-c <name>=<value>]\n",
      "           [--exec-path[=<path>]] [--html-path] [--man-path] [--info-path]\n",
      "           [-p | --paginate | -P | --no-pager] [--no-replace-objects] [--bare]\n",
      "           [--git-dir=<path>] [--work-tree=<path>] [--namespace=<name>]\n",
      "           [--super-prefix=<path>] [--config-env=<name>=<envvar>]\n",
      "           <command> [<args>]\n",
      "\n",
      "These are common Git commands used in various situations:\n",
      "\n",
      "start a working area (see also: git help tutorial)\n",
      "   clone     Clone a repository into a new directory\n",
      "   init      Create an empty Git repository or reinitialize an existing one\n",
      "\n",
      "work on the current change (see also: git help everyday)\n",
      "   add       Add file contents to the index\n",
      "   mv        Move or rename a file, a directory, or a symlink\n",
      "   restore   Restore working tree files\n",
      "   rm        Remove files from the working tree and from the index\n",
      "\n",
      "examine the history and state (see also: git help revisions)\n",
      "   bisect    Use binary search to find the commit that introduced a bug\n",
      "   diff      Show changes between commits, commit and working tree, etc\n",
      "   grep      Print lines matching a pattern\n",
      "   log       Show commit logs\n",
      "   show      Show various types of objects\n",
      "   status    Show the working tree status\n",
      "\n",
      "grow, mark and tweak your common history\n",
      "   branch    List, create, or delete branches\n",
      "   commit    Record changes to the repository\n",
      "   merge     Join two or more development histories together\n",
      "   rebase    Reapply commits on top of another base tip\n",
      "   reset     Reset current HEAD to the specified state\n",
      "   switch    Switch branches\n",
      "   tag       Create, list, delete or verify a tag object signed with GPG\n",
      "\n",
      "collaborate (see also: git help workflows)\n",
      "   fetch     Download objects and refs from another repository\n",
      "   pull      Fetch from and integrate with another repository or a local branch\n",
      "   push      Update remote refs along with associated objects\n",
      "\n",
      "'git help -a' and 'git help -g' list available subcommands and some\n",
      "concept guides. See 'git help <command>' or 'git help <concept>'\n",
      "to read about a specific subcommand or concept.\n",
      "See 'git help git' for an overview of the system.\n"
     ]
    }
   ],
   "source": [
    "! git"
   ]
  },
  {
   "cell_type": "code",
   "execution_count": 7,
   "id": "45da69ee-1bba-40bc-b47e-bc7929434359",
   "metadata": {
    "tags": []
   },
   "outputs": [],
   "source": [
    "# identifier to who mad what changes.\n",
    "! git config --global user.name  \"Dean Rickles\"\n",
    "! git config --global user.email \"dean@rickles.co.uk\""
   ]
  },
  {
   "cell_type": "code",
   "execution_count": 8,
   "id": "ab583741-5c57-47ff-9f18-5a869ab53ebe",
   "metadata": {},
   "outputs": [
    {
     "data": {
      "text/plain": [
       "'\\n    Git and github are seperate tools.\\n'"
      ]
     },
     "execution_count": 8,
     "metadata": {},
     "output_type": "execute_result"
    }
   ],
   "source": [
    "'''\n",
    "    Git and github are seperate tools.\n",
    "    \n",
    "    \n",
    "    Git\n",
    "'''"
   ]
  },
  {
   "cell_type": "code",
   "execution_count": 10,
   "id": "32051440-1915-40d5-9389-285fb60c1c61",
   "metadata": {},
   "outputs": [
    {
     "name": "stdout",
     "output_type": "stream",
     "text": [
      "\u001b[33mhint: Using 'master' as the name for the initial branch. This default branch name\u001b[m\n",
      "\u001b[33mhint: is subject to change. To configure the initial branch name to use in all\u001b[m\n",
      "\u001b[33mhint: of your new repositories, which will suppress this warning, call:\u001b[m\n",
      "\u001b[33mhint: \u001b[m\n",
      "\u001b[33mhint: \tgit config --global init.defaultBranch <name>\u001b[m\n",
      "\u001b[33mhint: \u001b[m\n",
      "\u001b[33mhint: Names commonly chosen instead of 'master' are 'main', 'trunk' and\u001b[m\n",
      "\u001b[33mhint: 'development'. The just-created branch can be renamed via this command:\u001b[m\n",
      "\u001b[33mhint: \u001b[m\n",
      "\u001b[33mhint: \tgit branch -m <name>\u001b[m\n",
      "Initialized empty Git repository in /opt/app/data/gitHub/.git/\n"
     ]
    }
   ],
   "source": [
    "# creating a empty dit repository.\n",
    "! git init"
   ]
  },
  {
   "cell_type": "code",
   "execution_count": 12,
   "id": "833ee422-c852-420d-8550-89b415d34e96",
   "metadata": {},
   "outputs": [
    {
     "name": "stdout",
     "output_type": "stream",
     "text": [
      " \u001b[0m\u001b[01;34m.\u001b[0m/   \u001b[01;34m..\u001b[0m/   \u001b[01;34m.git\u001b[0m/   \u001b[01;34m.ipynb_checkpoints\u001b[0m/  'Learning 1.ipynb'\n"
     ]
    }
   ],
   "source": [
    "# .git/  created used by git to store information\n",
    "ls -a"
   ]
  },
  {
   "cell_type": "code",
   "execution_count": 24,
   "id": "3106ff7c-274c-4541-9be9-cd49658584df",
   "metadata": {},
   "outputs": [
    {
     "name": "stdout",
     "output_type": "stream",
     "text": [
      "On branch master\n",
      "\n",
      "No commits yet\n",
      "\n",
      "Untracked files:\n",
      "  (use \"git add <file>...\" to include in what will be committed)\n",
      "\t\u001b[31m.ipynb_checkpoints/\u001b[m\n",
      "\t\u001b[31mLearning 1.ipynb\u001b[m\n",
      "\t\u001b[31mindex.html\u001b[m\n",
      "\n",
      "nothing added to commit but untracked files present (use \"git add\" to track)\n"
     ]
    }
   ],
   "source": [
    "# get status on repository\n",
    "! git status"
   ]
  },
  {
   "cell_type": "code",
   "execution_count": 22,
   "id": "c7a9f6ec-84d2-4748-99ef-b93a3e597d6b",
   "metadata": {},
   "outputs": [],
   "source": [
    "# creating a file.\n",
    "! touch index.html"
   ]
  },
  {
   "cell_type": "code",
   "execution_count": 23,
   "id": "f0ca678d-17c9-4731-86d2-a84cf97e7c08",
   "metadata": {},
   "outputs": [
    {
     "name": "stdout",
     "output_type": "stream",
     "text": [
      " index.html  'Learning 1.ipynb'\n"
     ]
    }
   ],
   "source": []
  },
  {
   "cell_type": "code",
   "execution_count": 25,
   "id": "47acfd7d-a01a-4d91-a575-7faf5b0bbfa8",
   "metadata": {},
   "outputs": [
    {
     "name": "stdout",
     "output_type": "stream",
     "text": [
      "On branch master\n",
      "\n",
      "No commits yet\n",
      "\n",
      "Untracked files:\n",
      "  (use \"git add <file>...\" to include in what will be committed)\n",
      "\t\u001b[31m.ipynb_checkpoints/\u001b[m\n",
      "\t\u001b[31mLearning 1.ipynb\u001b[m\n",
      "\t\u001b[31mindex.html\u001b[m\n",
      "\n",
      "nothing added to commit but untracked files present (use \"git add\" to track)\n"
     ]
    }
   ],
   "source": [
    "! git status"
   ]
  },
  {
   "cell_type": "code",
   "execution_count": 26,
   "id": "7a7e171a-63a9-478a-83d9-e34627f85fcc",
   "metadata": {},
   "outputs": [],
   "source": [
    "# Staging area\n",
    "! git add index.html"
   ]
  },
  {
   "cell_type": "code",
   "execution_count": 27,
   "id": "8ae8663e-fe13-4ecb-9c98-9b773bfc413c",
   "metadata": {},
   "outputs": [
    {
     "name": "stdout",
     "output_type": "stream",
     "text": [
      "On branch master\n",
      "\n",
      "No commits yet\n",
      "\n",
      "Changes to be committed:\n",
      "  (use \"git rm --cached <file>...\" to unstage)\n",
      "\t\u001b[32mnew file:   index.html\u001b[m\n",
      "\n",
      "Untracked files:\n",
      "  (use \"git add <file>...\" to include in what will be committed)\n",
      "\t\u001b[31m.ipynb_checkpoints/\u001b[m\n",
      "\t\u001b[31mLearning 1.ipynb\u001b[m\n",
      "\n"
     ]
    }
   ],
   "source": [
    "! git status"
   ]
  },
  {
   "cell_type": "code",
   "execution_count": 28,
   "id": "5873e2a5-fb01-4f10-b6cc-d4c740070be3",
   "metadata": {},
   "outputs": [
    {
     "name": "stdout",
     "output_type": "stream",
     "text": [
      "[master (root-commit) c48d2f4] Commiting an empty file for testing.\n",
      " 1 file changed, 0 insertions(+), 0 deletions(-)\n",
      " create mode 100644 index.html\n"
     ]
    }
   ],
   "source": [
    "! git commit -m \"Commiting an empty file for testing.\""
   ]
  },
  {
   "cell_type": "code",
   "execution_count": 29,
   "id": "9e554cb0-a0fa-418a-9abc-04ba73c6bd19",
   "metadata": {},
   "outputs": [
    {
     "name": "stdout",
     "output_type": "stream",
     "text": [
      "On branch master\n",
      "Untracked files:\n",
      "  (use \"git add <file>...\" to include in what will be committed)\n",
      "\t\u001b[31m.ipynb_checkpoints/\u001b[m\n",
      "\t\u001b[31mLearning 1.ipynb\u001b[m\n",
      "\n",
      "nothing added to commit but untracked files present (use \"git add\" to track)\n"
     ]
    }
   ],
   "source": [
    "!git status\n"
   ]
  },
  {
   "cell_type": "code",
   "execution_count": null,
   "id": "5dfdb915-d873-4d2b-b58e-09c585ce52c2",
   "metadata": {},
   "outputs": [],
   "source": []
  }
 ],
 "metadata": {
  "kernelspec": {
   "display_name": "Python 3 (ipykernel)",
   "language": "python",
   "name": "python3"
  },
  "language_info": {
   "codemirror_mode": {
    "name": "ipython",
    "version": 3
   },
   "file_extension": ".py",
   "mimetype": "text/x-python",
   "name": "python",
   "nbconvert_exporter": "python",
   "pygments_lexer": "ipython3",
   "version": "3.10.2"
  }
 },
 "nbformat": 4,
 "nbformat_minor": 5
}
